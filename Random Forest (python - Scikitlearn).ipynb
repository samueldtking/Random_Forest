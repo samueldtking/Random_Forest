{
 "cells": [
  {
   "cell_type": "code",
   "execution_count": 1,
   "metadata": {},
   "outputs": [
    {
     "name": "stderr",
     "output_type": "stream",
     "text": [
      "C:\\Users\\samue\\Anaconda3\\lib\\site-packages\\sklearn\\cross_validation.py:44: DeprecationWarning: This module was deprecated in version 0.18 in favor of the model_selection module into which all the refactored classes and functions are moved. Also note that the interface of the new CV iterators are different from that of this module. This module will be removed in 0.20.\n",
      "  \"This module will be removed in 0.20.\", DeprecationWarning)\n"
     ]
    },
    {
     "name": "stdout",
     "output_type": "stream",
     "text": [
      "Predicted   0   1\n",
      "Actual           \n",
      "0          82   8\n",
      "1          12  41\n",
      "             precision    recall  f1-score   support\n",
      "\n",
      "          0       0.87      0.91      0.89        90\n",
      "          1       0.84      0.77      0.80        53\n",
      "\n",
      "avg / total       0.86      0.86      0.86       143\n",
      "\n"
     ]
    },
    {
     "data": {
      "text/plain": [
       "0.8601398601398601"
      ]
     },
     "execution_count": 1,
     "metadata": {},
     "output_type": "execute_result"
    }
   ],
   "source": [
    "## RANDOM FORESTS \n",
    "## RFSK1: FIT , PREDICT, SCORE \n",
    "\n",
    "# load data\n",
    "%matplotlib inline\n",
    "import numpy as np\n",
    "import pandas as pd\n",
    "import matplotlib.pyplot as plt\n",
    "import statsmodels.formula.api as sm\n",
    "from statsmodels.nonparametric.kde import KDEUnivariate\n",
    "from sklearn import cross_validation, feature_selection,preprocessing\n",
    "from sklearn.linear_model import LogisticRegression\n",
    "from sklearn.metrics import classification_report, roc_curve, auc\n",
    "from patsy import dmatrices\n",
    "df = pd.read_csv('titanic_data.csv')\n",
    "\n",
    "df = df.drop(['Ticket','Cabin','Name','Embarked'], axis=1)\n",
    "# taking out overfitting variables like id which make no sense\n",
    "\n",
    "# Remove missing values\n",
    "df = df.dropna() \n",
    "\n",
    "# first convert to numerics \n",
    "df[\"Sex\"] = df[\"Sex\"].apply(lambda sex: 0 if sex == 'male' else 1)\n",
    "\n",
    "\n",
    "# split training/test\n",
    "train=df.sample(frac=0.8,random_state=200)\n",
    "test=df.drop(train.index)\n",
    "\n",
    "# split label/values\n",
    "y_train = targets = labels = train[\"Survived\"].values\n",
    "y_test = targets = labels = test[\"Survived\"].values\n",
    "\n",
    "# name columns \n",
    "columns = [\"Fare\", \"Pclass\", \"Sex\", \"Age\", \"SibSp\"]\n",
    "features_train = train[list(columns)].values\n",
    "features_test = test[list(columns)].values\n",
    "\n",
    "# Impute NAs\n",
    "from sklearn.preprocessing import Imputer\n",
    "imp = Imputer(missing_values='NaN', strategy='mean', axis=0)\n",
    "X_train = imp.fit_transform(features_train)\n",
    "\n",
    "imp = Imputer(missing_values='NaN', strategy='mean', axis=0)\n",
    "X_test = imp.fit_transform(features_test)\n",
    "\n",
    "# Build fit model with train set \n",
    "from sklearn import tree\n",
    "clf = tree.DecisionTreeClassifier(criterion=\"entropy\", max_depth=3)\n",
    "clf = clf.fit(X_train, y_train)\n",
    "\n",
    "# Predict model with test set \n",
    "y_pred = clf.predict(X_test)\n",
    "print (pd.crosstab(y_test\n",
    "                  ,y_pred\n",
    "                  ,rownames = ['Actual']\n",
    "                  ,colnames = ['Predicted']))\n",
    "\n",
    "# get scores \n",
    "print (classification_report(y_test,y_pred))\n",
    "\n",
    "TP = pd.crosstab(y_test,y_pred)[1][1]\n",
    "TN = pd.crosstab(y_test,y_pred)[0][0]\n",
    "FP = pd.crosstab(y_test,y_pred)[0][1]\n",
    "FN = pd.crosstab(y_test,y_pred)[1][0]\n",
    "\n",
    "ACC = (TP+TN)/(TP+TN+FP+FN)\n",
    "\n",
    "ACC"
   ]
  }
 ],
 "metadata": {
  "kernelspec": {
   "display_name": "Python 3",
   "language": "python",
   "name": "python3"
  },
  "language_info": {
   "codemirror_mode": {
    "name": "ipython",
    "version": 3
   },
   "file_extension": ".py",
   "mimetype": "text/x-python",
   "name": "python",
   "nbconvert_exporter": "python",
   "pygments_lexer": "ipython3",
   "version": "3.6.1"
  }
 },
 "nbformat": 4,
 "nbformat_minor": 2
}
